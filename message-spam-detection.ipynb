{
 "cells": [
  {
   "cell_type": "markdown",
   "metadata": {},
   "source": [
    "### Spam Detection using Naive Bayes\n",
    "\n",
    "Using Multinomial Naive Bayes a simple Spam Detection model was implemented.Using Data Analysis and Experimentation MNB was choosed to maximize Precision and Accuracy.\n",
    "\n",
    "Dataset Used: SMS Spam Collection Dataset by UCI\n",
    "\n",
    "The SMS Spam Collection is a set of SMS tagged messages that have been collected for SMS Spam research. It contains one set of SMS messages in English of 5,574 messages, tagged acording being ham (legitimate) or spam. \n",
    "\n",
    "\n",
    "Almeida, T.A., GÃ³mez Hidalgo, J.M., Yamakami, A. Contributions to the Study of SMS Spam Filtering: New Collection and Results. Proceedings of the 2011 ACM Symposium on Document Engineering (DOCENG'11), Mountain View, CA, USA, 2011.\n"
   ]
  },
  {
   "cell_type": "markdown",
   "metadata": {},
   "source": [
    "### Importing Libraries "
   ]
  },
  {
   "cell_type": "code",
   "execution_count": 3,
   "metadata": {
    "executionInfo": {
     "elapsed": 461,
     "status": "ok",
     "timestamp": 1644050329712,
     "user": {
      "displayName": "Samip Paudel",
      "photoUrl": "https://lh3.googleusercontent.com/a-/AOh14GiS3Tqz3GrZTrpS2C90h_jk85nKlmvQHk12_9Pc=s64",
      "userId": "11434154646894480115"
     },
     "user_tz": -345
    },
    "id": "QmlsPOnfJugX"
   },
   "outputs": [],
   "source": [
    "import numpy as np\n",
    "import pandas as pd"
   ]
  },
  {
   "cell_type": "code",
   "execution_count": 4,
   "metadata": {
    "executionInfo": {
     "elapsed": 699,
     "status": "ok",
     "timestamp": 1644050330830,
     "user": {
      "displayName": "Samip Paudel",
      "photoUrl": "https://lh3.googleusercontent.com/a-/AOh14GiS3Tqz3GrZTrpS2C90h_jk85nKlmvQHk12_9Pc=s64",
      "userId": "11434154646894480115"
     },
     "user_tz": -345
    },
    "id": "GI1f0kEgKAas"
   },
   "outputs": [],
   "source": [
    "df = pd.read_csv('spam.csv',encoding=\"ISO-8859-1\")"
   ]
  },
  {
   "cell_type": "code",
   "execution_count": 5,
   "metadata": {
    "colab": {
     "base_uri": "https://localhost:8080/",
     "height": 337
    },
    "executionInfo": {
     "elapsed": 30,
     "status": "ok",
     "timestamp": 1644050330831,
     "user": {
      "displayName": "Samip Paudel",
      "photoUrl": "https://lh3.googleusercontent.com/a-/AOh14GiS3Tqz3GrZTrpS2C90h_jk85nKlmvQHk12_9Pc=s64",
      "userId": "11434154646894480115"
     },
     "user_tz": -345
    },
    "id": "90ZS11_hKLgn",
    "outputId": "7491ad78-6b3d-4caa-e7c8-659ef3394670"
   },
   "outputs": [
    {
     "data": {
      "text/html": [
       "<div>\n",
       "<style scoped>\n",
       "    .dataframe tbody tr th:only-of-type {\n",
       "        vertical-align: middle;\n",
       "    }\n",
       "\n",
       "    .dataframe tbody tr th {\n",
       "        vertical-align: top;\n",
       "    }\n",
       "\n",
       "    .dataframe thead th {\n",
       "        text-align: right;\n",
       "    }\n",
       "</style>\n",
       "<table border=\"1\" class=\"dataframe\">\n",
       "  <thead>\n",
       "    <tr style=\"text-align: right;\">\n",
       "      <th></th>\n",
       "      <th>v1</th>\n",
       "      <th>v2</th>\n",
       "      <th>Unnamed: 2</th>\n",
       "      <th>Unnamed: 3</th>\n",
       "      <th>Unnamed: 4</th>\n",
       "    </tr>\n",
       "  </thead>\n",
       "  <tbody>\n",
       "    <tr>\n",
       "      <th>0</th>\n",
       "      <td>ham</td>\n",
       "      <td>Go until jurong point, crazy.. Available only ...</td>\n",
       "      <td>NaN</td>\n",
       "      <td>NaN</td>\n",
       "      <td>NaN</td>\n",
       "    </tr>\n",
       "    <tr>\n",
       "      <th>1</th>\n",
       "      <td>ham</td>\n",
       "      <td>Ok lar... Joking wif u oni...</td>\n",
       "      <td>NaN</td>\n",
       "      <td>NaN</td>\n",
       "      <td>NaN</td>\n",
       "    </tr>\n",
       "    <tr>\n",
       "      <th>2</th>\n",
       "      <td>spam</td>\n",
       "      <td>Free entry in 2 a wkly comp to win FA Cup fina...</td>\n",
       "      <td>NaN</td>\n",
       "      <td>NaN</td>\n",
       "      <td>NaN</td>\n",
       "    </tr>\n",
       "    <tr>\n",
       "      <th>3</th>\n",
       "      <td>ham</td>\n",
       "      <td>U dun say so early hor... U c already then say...</td>\n",
       "      <td>NaN</td>\n",
       "      <td>NaN</td>\n",
       "      <td>NaN</td>\n",
       "    </tr>\n",
       "    <tr>\n",
       "      <th>4</th>\n",
       "      <td>ham</td>\n",
       "      <td>Nah I don't think he goes to usf, he lives aro...</td>\n",
       "      <td>NaN</td>\n",
       "      <td>NaN</td>\n",
       "      <td>NaN</td>\n",
       "    </tr>\n",
       "  </tbody>\n",
       "</table>\n",
       "</div>"
      ],
      "text/plain": [
       "     v1                                                 v2 Unnamed: 2  \\\n",
       "0   ham  Go until jurong point, crazy.. Available only ...        NaN   \n",
       "1   ham                      Ok lar... Joking wif u oni...        NaN   \n",
       "2  spam  Free entry in 2 a wkly comp to win FA Cup fina...        NaN   \n",
       "3   ham  U dun say so early hor... U c already then say...        NaN   \n",
       "4   ham  Nah I don't think he goes to usf, he lives aro...        NaN   \n",
       "\n",
       "  Unnamed: 3 Unnamed: 4  \n",
       "0        NaN        NaN  \n",
       "1        NaN        NaN  \n",
       "2        NaN        NaN  \n",
       "3        NaN        NaN  \n",
       "4        NaN        NaN  "
      ]
     },
     "execution_count": 5,
     "metadata": {},
     "output_type": "execute_result"
    }
   ],
   "source": [
    "df.head()"
   ]
  },
  {
   "cell_type": "markdown",
   "metadata": {},
   "source": [
    "### Observation \n",
    "\n",
    "Columns 'Unnamed:2' 'Unnamed:3' 'Unnamed:4' are see  to filled with NaN values. If most of the column consists of maximum NaN values, this signals to an imbalanced dataset. So, After checking their counts, they may be dropped from further analysis\n",
    "\n"
   ]
  },
  {
   "cell_type": "code",
   "execution_count": 6,
   "metadata": {
    "colab": {
     "base_uri": "https://localhost:8080/"
    },
    "executionInfo": {
     "elapsed": 28,
     "status": "ok",
     "timestamp": 1644050330832,
     "user": {
      "displayName": "Samip Paudel",
      "photoUrl": "https://lh3.googleusercontent.com/a-/AOh14GiS3Tqz3GrZTrpS2C90h_jk85nKlmvQHk12_9Pc=s64",
      "userId": "11434154646894480115"
     },
     "user_tz": -345
    },
    "id": "QBLrb_8KKn_i",
    "outputId": "e48f5be7-d371-422d-9e99-48851c083390"
   },
   "outputs": [
    {
     "data": {
      "text/plain": [
       "(5572, 5)"
      ]
     },
     "execution_count": 6,
     "metadata": {},
     "output_type": "execute_result"
    }
   ],
   "source": [
    "df.shape"
   ]
  },
  {
   "cell_type": "markdown",
   "metadata": {
    "executionInfo": {
     "elapsed": 23,
     "status": "ok",
     "timestamp": 1644050330832,
     "user": {
      "displayName": "Samip Paudel",
      "photoUrl": "https://lh3.googleusercontent.com/a-/AOh14GiS3Tqz3GrZTrpS2C90h_jk85nKlmvQHk12_9Pc=s64",
      "userId": "11434154646894480115"
     },
     "user_tz": -345
    },
    "id": "M3XlDresKsbb"
   },
   "source": [
    "### Our Model Building Process\n",
    "\n",
    "#### Data Cleaning\n",
    "\n",
    "\n",
    "#### EDA\n",
    "\n",
    "\n",
    "\n",
    "\n",
    "#### Text Preprocessing\n",
    "\n",
    "#### Model Building\n",
    "\n",
    "\n",
    "#### Evaluation\n",
    "\n",
    "\n",
    "\n"
   ]
  },
  {
   "cell_type": "markdown",
   "metadata": {},
   "source": [
    "### Data Cleaning"
   ]
  },
  {
   "cell_type": "code",
   "execution_count": 7,
   "metadata": {
    "colab": {
     "base_uri": "https://localhost:8080/"
    },
    "executionInfo": {
     "elapsed": 23,
     "status": "ok",
     "timestamp": 1644050330833,
     "user": {
      "displayName": "Samip Paudel",
      "photoUrl": "https://lh3.googleusercontent.com/a-/AOh14GiS3Tqz3GrZTrpS2C90h_jk85nKlmvQHk12_9Pc=s64",
      "userId": "11434154646894480115"
     },
     "user_tz": -345
    },
    "id": "e4zE2vHlK_0_",
    "outputId": "e6823a2b-1350-4e68-f296-5ea39d041fec"
   },
   "outputs": [
    {
     "name": "stdout",
     "output_type": "stream",
     "text": [
      "<class 'pandas.core.frame.DataFrame'>\n",
      "RangeIndex: 5572 entries, 0 to 5571\n",
      "Data columns (total 5 columns):\n",
      " #   Column      Non-Null Count  Dtype \n",
      "---  ------      --------------  ----- \n",
      " 0   v1          5572 non-null   object\n",
      " 1   v2          5572 non-null   object\n",
      " 2   Unnamed: 2  50 non-null     object\n",
      " 3   Unnamed: 3  12 non-null     object\n",
      " 4   Unnamed: 4  6 non-null      object\n",
      "dtypes: object(5)\n",
      "memory usage: 217.8+ KB\n"
     ]
    }
   ],
   "source": [
    "df.info()"
   ]
  },
  {
   "cell_type": "markdown",
   "metadata": {},
   "source": [
    "#### Columns 2,3,4 cotains maximum no. of null values. so they will be dropped\n"
   ]
  },
  {
   "cell_type": "code",
   "execution_count": 8,
   "metadata": {
    "executionInfo": {
     "elapsed": 21,
     "status": "ok",
     "timestamp": 1644050330834,
     "user": {
      "displayName": "Samip Paudel",
      "photoUrl": "https://lh3.googleusercontent.com/a-/AOh14GiS3Tqz3GrZTrpS2C90h_jk85nKlmvQHk12_9Pc=s64",
      "userId": "11434154646894480115"
     },
     "user_tz": -345
    },
    "id": "zMX0AgdILCby"
   },
   "outputs": [],
   "source": [
    "df.drop(columns=['Unnamed: 2','Unnamed: 3','Unnamed: 4'],inplace = True)"
   ]
  },
  {
   "cell_type": "code",
   "execution_count": 9,
   "metadata": {
    "colab": {
     "base_uri": "https://localhost:8080/",
     "height": 206
    },
    "executionInfo": {
     "elapsed": 19,
     "status": "ok",
     "timestamp": 1644050330834,
     "user": {
      "displayName": "Samip Paudel",
      "photoUrl": "https://lh3.googleusercontent.com/a-/AOh14GiS3Tqz3GrZTrpS2C90h_jk85nKlmvQHk12_9Pc=s64",
      "userId": "11434154646894480115"
     },
     "user_tz": -345
    },
    "id": "5habh2UpLOfE",
    "outputId": "9a115536-8356-4f2b-c4b6-4c34457fc4f1"
   },
   "outputs": [
    {
     "data": {
      "text/html": [
       "<div>\n",
       "<style scoped>\n",
       "    .dataframe tbody tr th:only-of-type {\n",
       "        vertical-align: middle;\n",
       "    }\n",
       "\n",
       "    .dataframe tbody tr th {\n",
       "        vertical-align: top;\n",
       "    }\n",
       "\n",
       "    .dataframe thead th {\n",
       "        text-align: right;\n",
       "    }\n",
       "</style>\n",
       "<table border=\"1\" class=\"dataframe\">\n",
       "  <thead>\n",
       "    <tr style=\"text-align: right;\">\n",
       "      <th></th>\n",
       "      <th>v1</th>\n",
       "      <th>v2</th>\n",
       "    </tr>\n",
       "  </thead>\n",
       "  <tbody>\n",
       "    <tr>\n",
       "      <th>0</th>\n",
       "      <td>ham</td>\n",
       "      <td>Go until jurong point, crazy.. Available only ...</td>\n",
       "    </tr>\n",
       "    <tr>\n",
       "      <th>1</th>\n",
       "      <td>ham</td>\n",
       "      <td>Ok lar... Joking wif u oni...</td>\n",
       "    </tr>\n",
       "    <tr>\n",
       "      <th>2</th>\n",
       "      <td>spam</td>\n",
       "      <td>Free entry in 2 a wkly comp to win FA Cup fina...</td>\n",
       "    </tr>\n",
       "    <tr>\n",
       "      <th>3</th>\n",
       "      <td>ham</td>\n",
       "      <td>U dun say so early hor... U c already then say...</td>\n",
       "    </tr>\n",
       "    <tr>\n",
       "      <th>4</th>\n",
       "      <td>ham</td>\n",
       "      <td>Nah I don't think he goes to usf, he lives aro...</td>\n",
       "    </tr>\n",
       "  </tbody>\n",
       "</table>\n",
       "</div>"
      ],
      "text/plain": [
       "     v1                                                 v2\n",
       "0   ham  Go until jurong point, crazy.. Available only ...\n",
       "1   ham                      Ok lar... Joking wif u oni...\n",
       "2  spam  Free entry in 2 a wkly comp to win FA Cup fina...\n",
       "3   ham  U dun say so early hor... U c already then say...\n",
       "4   ham  Nah I don't think he goes to usf, he lives aro..."
      ]
     },
     "execution_count": 9,
     "metadata": {},
     "output_type": "execute_result"
    }
   ],
   "source": [
    "df.head()"
   ]
  },
  {
   "cell_type": "markdown",
   "metadata": {},
   "source": [
    "#### v1, v2 as column names doesn't make sense. so, they wil be renamed"
   ]
  },
  {
   "cell_type": "code",
   "execution_count": 10,
   "metadata": {
    "executionInfo": {
     "elapsed": 19,
     "status": "ok",
     "timestamp": 1644050330835,
     "user": {
      "displayName": "Samip Paudel",
      "photoUrl": "https://lh3.googleusercontent.com/a-/AOh14GiS3Tqz3GrZTrpS2C90h_jk85nKlmvQHk12_9Pc=s64",
      "userId": "11434154646894480115"
     },
     "user_tz": -345
    },
    "id": "NuYgrVFeLUIh"
   },
   "outputs": [],
   "source": [
    "df.rename(columns={'v1':'Label','v2':'text'},inplace = True)"
   ]
  },
  {
   "cell_type": "code",
   "execution_count": 11,
   "metadata": {
    "colab": {
     "base_uri": "https://localhost:8080/",
     "height": 206
    },
    "executionInfo": {
     "elapsed": 18,
     "status": "ok",
     "timestamp": 1644050330835,
     "user": {
      "displayName": "Samip Paudel",
      "photoUrl": "https://lh3.googleusercontent.com/a-/AOh14GiS3Tqz3GrZTrpS2C90h_jk85nKlmvQHk12_9Pc=s64",
      "userId": "11434154646894480115"
     },
     "user_tz": -345
    },
    "id": "bAlXOJ2YLiLV",
    "outputId": "7d707f68-7f30-4feb-9560-674bd8610922"
   },
   "outputs": [
    {
     "data": {
      "text/html": [
       "<div>\n",
       "<style scoped>\n",
       "    .dataframe tbody tr th:only-of-type {\n",
       "        vertical-align: middle;\n",
       "    }\n",
       "\n",
       "    .dataframe tbody tr th {\n",
       "        vertical-align: top;\n",
       "    }\n",
       "\n",
       "    .dataframe thead th {\n",
       "        text-align: right;\n",
       "    }\n",
       "</style>\n",
       "<table border=\"1\" class=\"dataframe\">\n",
       "  <thead>\n",
       "    <tr style=\"text-align: right;\">\n",
       "      <th></th>\n",
       "      <th>Label</th>\n",
       "      <th>text</th>\n",
       "    </tr>\n",
       "  </thead>\n",
       "  <tbody>\n",
       "    <tr>\n",
       "      <th>0</th>\n",
       "      <td>ham</td>\n",
       "      <td>Go until jurong point, crazy.. Available only ...</td>\n",
       "    </tr>\n",
       "    <tr>\n",
       "      <th>1</th>\n",
       "      <td>ham</td>\n",
       "      <td>Ok lar... Joking wif u oni...</td>\n",
       "    </tr>\n",
       "    <tr>\n",
       "      <th>2</th>\n",
       "      <td>spam</td>\n",
       "      <td>Free entry in 2 a wkly comp to win FA Cup fina...</td>\n",
       "    </tr>\n",
       "    <tr>\n",
       "      <th>3</th>\n",
       "      <td>ham</td>\n",
       "      <td>U dun say so early hor... U c already then say...</td>\n",
       "    </tr>\n",
       "    <tr>\n",
       "      <th>4</th>\n",
       "      <td>ham</td>\n",
       "      <td>Nah I don't think he goes to usf, he lives aro...</td>\n",
       "    </tr>\n",
       "  </tbody>\n",
       "</table>\n",
       "</div>"
      ],
      "text/plain": [
       "  Label                                               text\n",
       "0   ham  Go until jurong point, crazy.. Available only ...\n",
       "1   ham                      Ok lar... Joking wif u oni...\n",
       "2  spam  Free entry in 2 a wkly comp to win FA Cup fina...\n",
       "3   ham  U dun say so early hor... U c already then say...\n",
       "4   ham  Nah I don't think he goes to usf, he lives aro..."
      ]
     },
     "execution_count": 11,
     "metadata": {},
     "output_type": "execute_result"
    }
   ],
   "source": [
    "df.head()"
   ]
  },
  {
   "cell_type": "markdown",
   "metadata": {},
   "source": [
    "#### Labels has values as ham and spam, in model building it is easier to work with 0,1 so, they will be encoded to similar format"
   ]
  },
  {
   "cell_type": "code",
   "execution_count": 12,
   "metadata": {
    "executionInfo": {
     "elapsed": 18,
     "status": "ok",
     "timestamp": 1644050330836,
     "user": {
      "displayName": "Samip Paudel",
      "photoUrl": "https://lh3.googleusercontent.com/a-/AOh14GiS3Tqz3GrZTrpS2C90h_jk85nKlmvQHk12_9Pc=s64",
      "userId": "11434154646894480115"
     },
     "user_tz": -345
    },
    "id": "Z0P_0qi2LlOm"
   },
   "outputs": [],
   "source": [
    "from sklearn.preprocessing import LabelEncoder\n",
    "encoder = LabelEncoder()"
   ]
  },
  {
   "cell_type": "code",
   "execution_count": 13,
   "metadata": {
    "executionInfo": {
     "elapsed": 17,
     "status": "ok",
     "timestamp": 1644050330836,
     "user": {
      "displayName": "Samip Paudel",
      "photoUrl": "https://lh3.googleusercontent.com/a-/AOh14GiS3Tqz3GrZTrpS2C90h_jk85nKlmvQHk12_9Pc=s64",
      "userId": "11434154646894480115"
     },
     "user_tz": -345
    },
    "id": "-URP-VI9Lwpd"
   },
   "outputs": [],
   "source": [
    "df['Label'] = encoder.fit_transform(df['Label'])"
   ]
  },
  {
   "cell_type": "code",
   "execution_count": 14,
   "metadata": {
    "colab": {
     "base_uri": "https://localhost:8080/",
     "height": 206
    },
    "executionInfo": {
     "elapsed": 45,
     "status": "ok",
     "timestamp": 1644050331600,
     "user": {
      "displayName": "Samip Paudel",
      "photoUrl": "https://lh3.googleusercontent.com/a-/AOh14GiS3Tqz3GrZTrpS2C90h_jk85nKlmvQHk12_9Pc=s64",
      "userId": "11434154646894480115"
     },
     "user_tz": -345
    },
    "id": "aczl_NW8MBAG",
    "outputId": "e16d2e53-4ef3-48cf-c854-aa6ed3fece72"
   },
   "outputs": [
    {
     "data": {
      "text/html": [
       "<div>\n",
       "<style scoped>\n",
       "    .dataframe tbody tr th:only-of-type {\n",
       "        vertical-align: middle;\n",
       "    }\n",
       "\n",
       "    .dataframe tbody tr th {\n",
       "        vertical-align: top;\n",
       "    }\n",
       "\n",
       "    .dataframe thead th {\n",
       "        text-align: right;\n",
       "    }\n",
       "</style>\n",
       "<table border=\"1\" class=\"dataframe\">\n",
       "  <thead>\n",
       "    <tr style=\"text-align: right;\">\n",
       "      <th></th>\n",
       "      <th>Label</th>\n",
       "      <th>text</th>\n",
       "    </tr>\n",
       "  </thead>\n",
       "  <tbody>\n",
       "    <tr>\n",
       "      <th>0</th>\n",
       "      <td>0</td>\n",
       "      <td>Go until jurong point, crazy.. Available only ...</td>\n",
       "    </tr>\n",
       "    <tr>\n",
       "      <th>1</th>\n",
       "      <td>0</td>\n",
       "      <td>Ok lar... Joking wif u oni...</td>\n",
       "    </tr>\n",
       "    <tr>\n",
       "      <th>2</th>\n",
       "      <td>1</td>\n",
       "      <td>Free entry in 2 a wkly comp to win FA Cup fina...</td>\n",
       "    </tr>\n",
       "    <tr>\n",
       "      <th>3</th>\n",
       "      <td>0</td>\n",
       "      <td>U dun say so early hor... U c already then say...</td>\n",
       "    </tr>\n",
       "    <tr>\n",
       "      <th>4</th>\n",
       "      <td>0</td>\n",
       "      <td>Nah I don't think he goes to usf, he lives aro...</td>\n",
       "    </tr>\n",
       "  </tbody>\n",
       "</table>\n",
       "</div>"
      ],
      "text/plain": [
       "   Label                                               text\n",
       "0      0  Go until jurong point, crazy.. Available only ...\n",
       "1      0                      Ok lar... Joking wif u oni...\n",
       "2      1  Free entry in 2 a wkly comp to win FA Cup fina...\n",
       "3      0  U dun say so early hor... U c already then say...\n",
       "4      0  Nah I don't think he goes to usf, he lives aro..."
      ]
     },
     "execution_count": 14,
     "metadata": {},
     "output_type": "execute_result"
    }
   ],
   "source": [
    "df.head()"
   ]
  },
  {
   "cell_type": "code",
   "execution_count": 15,
   "metadata": {
    "colab": {
     "base_uri": "https://localhost:8080/"
    },
    "executionInfo": {
     "elapsed": 43,
     "status": "ok",
     "timestamp": 1644050331601,
     "user": {
      "displayName": "Samip Paudel",
      "photoUrl": "https://lh3.googleusercontent.com/a-/AOh14GiS3Tqz3GrZTrpS2C90h_jk85nKlmvQHk12_9Pc=s64",
      "userId": "11434154646894480115"
     },
     "user_tz": -345
    },
    "id": "yeAossV2MDDJ",
    "outputId": "8ee1af5b-652f-457d-d4e4-b9429b33945c"
   },
   "outputs": [
    {
     "data": {
      "text/plain": [
       "Label    0\n",
       "text     0\n",
       "dtype: int64"
      ]
     },
     "execution_count": 15,
     "metadata": {},
     "output_type": "execute_result"
    }
   ],
   "source": [
    "df.isnull().sum()"
   ]
  },
  {
   "cell_type": "code",
   "execution_count": 16,
   "metadata": {
    "colab": {
     "base_uri": "https://localhost:8080/"
    },
    "executionInfo": {
     "elapsed": 36,
     "status": "ok",
     "timestamp": 1644050331602,
     "user": {
      "displayName": "Samip Paudel",
      "photoUrl": "https://lh3.googleusercontent.com/a-/AOh14GiS3Tqz3GrZTrpS2C90h_jk85nKlmvQHk12_9Pc=s64",
      "userId": "11434154646894480115"
     },
     "user_tz": -345
    },
    "id": "9WyAdPjjMJcG",
    "outputId": "5e918fc2-5ad6-42b1-923e-f8d195803c0e"
   },
   "outputs": [
    {
     "data": {
      "text/plain": [
       "403"
      ]
     },
     "execution_count": 16,
     "metadata": {},
     "output_type": "execute_result"
    }
   ],
   "source": [
    "df.duplicated().sum()"
   ]
  },
  {
   "cell_type": "code",
   "execution_count": 17,
   "metadata": {
    "executionInfo": {
     "elapsed": 32,
     "status": "ok",
     "timestamp": 1644050331605,
     "user": {
      "displayName": "Samip Paudel",
      "photoUrl": "https://lh3.googleusercontent.com/a-/AOh14GiS3Tqz3GrZTrpS2C90h_jk85nKlmvQHk12_9Pc=s64",
      "userId": "11434154646894480115"
     },
     "user_tz": -345
    },
    "id": "tDF53BV2MOfT"
   },
   "outputs": [],
   "source": [
    "df = df.drop_duplicates(keep='first')"
   ]
  },
  {
   "cell_type": "code",
   "execution_count": 18,
   "metadata": {
    "colab": {
     "base_uri": "https://localhost:8080/",
     "height": 206
    },
    "executionInfo": {
     "elapsed": 31,
     "status": "ok",
     "timestamp": 1644050331606,
     "user": {
      "displayName": "Samip Paudel",
      "photoUrl": "https://lh3.googleusercontent.com/a-/AOh14GiS3Tqz3GrZTrpS2C90h_jk85nKlmvQHk12_9Pc=s64",
      "userId": "11434154646894480115"
     },
     "user_tz": -345
    },
    "id": "AKFA8FX-MWdf",
    "outputId": "7a1d32df-9c09-492a-fbc5-aa2397ec0514"
   },
   "outputs": [
    {
     "data": {
      "text/html": [
       "<div>\n",
       "<style scoped>\n",
       "    .dataframe tbody tr th:only-of-type {\n",
       "        vertical-align: middle;\n",
       "    }\n",
       "\n",
       "    .dataframe tbody tr th {\n",
       "        vertical-align: top;\n",
       "    }\n",
       "\n",
       "    .dataframe thead th {\n",
       "        text-align: right;\n",
       "    }\n",
       "</style>\n",
       "<table border=\"1\" class=\"dataframe\">\n",
       "  <thead>\n",
       "    <tr style=\"text-align: right;\">\n",
       "      <th></th>\n",
       "      <th>Label</th>\n",
       "      <th>text</th>\n",
       "    </tr>\n",
       "  </thead>\n",
       "  <tbody>\n",
       "    <tr>\n",
       "      <th>0</th>\n",
       "      <td>0</td>\n",
       "      <td>Go until jurong point, crazy.. Available only ...</td>\n",
       "    </tr>\n",
       "    <tr>\n",
       "      <th>1</th>\n",
       "      <td>0</td>\n",
       "      <td>Ok lar... Joking wif u oni...</td>\n",
       "    </tr>\n",
       "    <tr>\n",
       "      <th>2</th>\n",
       "      <td>1</td>\n",
       "      <td>Free entry in 2 a wkly comp to win FA Cup fina...</td>\n",
       "    </tr>\n",
       "    <tr>\n",
       "      <th>3</th>\n",
       "      <td>0</td>\n",
       "      <td>U dun say so early hor... U c already then say...</td>\n",
       "    </tr>\n",
       "    <tr>\n",
       "      <th>4</th>\n",
       "      <td>0</td>\n",
       "      <td>Nah I don't think he goes to usf, he lives aro...</td>\n",
       "    </tr>\n",
       "  </tbody>\n",
       "</table>\n",
       "</div>"
      ],
      "text/plain": [
       "   Label                                               text\n",
       "0      0  Go until jurong point, crazy.. Available only ...\n",
       "1      0                      Ok lar... Joking wif u oni...\n",
       "2      1  Free entry in 2 a wkly comp to win FA Cup fina...\n",
       "3      0  U dun say so early hor... U c already then say...\n",
       "4      0  Nah I don't think he goes to usf, he lives aro..."
      ]
     },
     "execution_count": 18,
     "metadata": {},
     "output_type": "execute_result"
    }
   ],
   "source": [
    "df.head()"
   ]
  },
  {
   "cell_type": "code",
   "execution_count": 19,
   "metadata": {
    "colab": {
     "base_uri": "https://localhost:8080/"
    },
    "executionInfo": {
     "elapsed": 31,
     "status": "ok",
     "timestamp": 1644050331608,
     "user": {
      "displayName": "Samip Paudel",
      "photoUrl": "https://lh3.googleusercontent.com/a-/AOh14GiS3Tqz3GrZTrpS2C90h_jk85nKlmvQHk12_9Pc=s64",
      "userId": "11434154646894480115"
     },
     "user_tz": -345
    },
    "id": "7xpzcLWyMYOx",
    "outputId": "22876a74-a1c5-4c39-b919-6083d8cc171b"
   },
   "outputs": [
    {
     "data": {
      "text/plain": [
       "(5169, 2)"
      ]
     },
     "execution_count": 19,
     "metadata": {},
     "output_type": "execute_result"
    }
   ],
   "source": [
    "df.shape"
   ]
  },
  {
   "cell_type": "markdown",
   "metadata": {
    "executionInfo": {
     "elapsed": 28,
     "status": "ok",
     "timestamp": 1644050331609,
     "user": {
      "displayName": "Samip Paudel",
      "photoUrl": "https://lh3.googleusercontent.com/a-/AOh14GiS3Tqz3GrZTrpS2C90h_jk85nKlmvQHk12_9Pc=s64",
      "userId": "11434154646894480115"
     },
     "user_tz": -345
    },
    "id": "nHTtuqZTMbNu"
   },
   "source": [
    "### Exploratory Data Analysis\n"
   ]
  },
  {
   "cell_type": "code",
   "execution_count": 20,
   "metadata": {
    "colab": {
     "base_uri": "https://localhost:8080/"
    },
    "executionInfo": {
     "elapsed": 28,
     "status": "ok",
     "timestamp": 1644050331610,
     "user": {
      "displayName": "Samip Paudel",
      "photoUrl": "https://lh3.googleusercontent.com/a-/AOh14GiS3Tqz3GrZTrpS2C90h_jk85nKlmvQHk12_9Pc=s64",
      "userId": "11434154646894480115"
     },
     "user_tz": -345
    },
    "id": "l2GufvTRMffO",
    "outputId": "a661d363-44cc-4e68-c9d9-2c623f0b282e"
   },
   "outputs": [
    {
     "data": {
      "text/plain": [
       "0    4516\n",
       "1     653\n",
       "Name: Label, dtype: int64"
      ]
     },
     "execution_count": 20,
     "metadata": {},
     "output_type": "execute_result"
    }
   ],
   "source": [
    "df['Label'].value_counts()"
   ]
  },
  {
   "cell_type": "markdown",
   "metadata": {},
   "source": [
    "#### Observation:\n",
    "Data samples contains more ham values that spam. so it is heavily imabalanced "
   ]
  },
  {
   "cell_type": "code",
   "execution_count": 21,
   "metadata": {
    "colab": {
     "base_uri": "https://localhost:8080/",
     "height": 248
    },
    "executionInfo": {
     "elapsed": 24,
     "status": "ok",
     "timestamp": 1644050331610,
     "user": {
      "displayName": "Samip Paudel",
      "photoUrl": "https://lh3.googleusercontent.com/a-/AOh14GiS3Tqz3GrZTrpS2C90h_jk85nKlmvQHk12_9Pc=s64",
      "userId": "11434154646894480115"
     },
     "user_tz": -345
    },
    "id": "LGd6pJ-bMoLI",
    "outputId": "285328f4-0959-492f-c80d-a9e921105c3c"
   },
   "outputs": [
    {
     "data": {
      "image/png": "[encoded data removed]",
      "text/plain": [
       "<Figure size 432x288 with 1 Axes>"
      ]
     },
     "metadata": {},
     "output_type": "display_data"
    }
   ],
   "source": [
    "import matplotlib.pyplot as plt\n",
    "plt.pie(df['Label'].value_counts(),labels=['Ham','Spam'],autopct='%0.2f')\n",
    "plt.show()"
   ]
  },
  {
   "cell_type": "code",
   "execution_count": 22,
   "metadata": {
    "colab": {
     "base_uri": "https://localhost:8080/"
    },
    "executionInfo": {
     "elapsed": 3149,
     "status": "ok",
     "timestamp": 1644050334736,
     "user": {
      "displayName": "Samip Paudel",
      "photoUrl": "https://lh3.googleusercontent.com/a-/AOh14GiS3Tqz3GrZTrpS2C90h_jk85nKlmvQHk12_9Pc=s64",
      "userId": "11434154646894480115"
     },
     "user_tz": -345
    },
    "id": "WcE-06HyNAYr",
    "outputId": "d314d09e-c1d6-46bb-912f-c613f73b4d14"
   },
   "outputs": [
    {
     "name": "stdout",
     "output_type": "stream",
     "text": [
      "Defaulting to user installation because normal site-packages is not writeable\n",
      "Requirement already satisfied: nltk in /home/samip/.local/lib/python3.10/site-packages (3.6.7)\n",
      "Requirement already satisfied: regex>=2021.8.3 in /home/samip/.local/lib/python3.10/site-packages (from nltk) (2022.1.18)\n",
      "Requirement already satisfied: click in /home/samip/.local/lib/python3.10/site-packages (from nltk) (8.0.3)\n",
      "Requirement already satisfied: tqdm in /home/samip/.local/lib/python3.10/site-packages (from nltk) (4.62.3)\n",
      "Requirement already satisfied: joblib in /home/samip/.local/lib/python3.10/site-packages (from nltk) (1.1.0)\n"
     ]
    }
   ],
   "source": [
    "!pip install nltk"
   ]
  },
  {
   "cell_type": "code",
   "execution_count": 23,
   "metadata": {
    "executionInfo": {
     "elapsed": 691,
     "status": "ok",
     "timestamp": 1644050335416,
     "user": {
      "displayName": "Samip Paudel",
      "photoUrl": "https://lh3.googleusercontent.com/a-/AOh14GiS3Tqz3GrZTrpS2C90h_jk85nKlmvQHk12_9Pc=s64",
      "userId": "11434154646894480115"
     },
     "user_tz": -345
    },
    "id": "CD0xqBjWNRny"
   },
   "outputs": [],
   "source": [
    "import nltk"
   ]
  },
  {
   "cell_type": "code",
   "execution_count": 24,
   "metadata": {
    "colab": {
     "base_uri": "https://localhost:8080/"
    },
    "executionInfo": {
     "elapsed": 475,
     "status": "ok",
     "timestamp": 1644050335883,
     "user": {
      "displayName": "Samip Paudel",
      "photoUrl": "https://lh3.googleusercontent.com/a-/AOh14GiS3Tqz3GrZTrpS2C90h_jk85nKlmvQHk12_9Pc=s64",
      "userId": "11434154646894480115"
     },
     "user_tz": -345
    },
    "id": "G6vFcUmqNVik",
    "outputId": "f368f1ca-1f08-40ff-9b59-323f4641c4d6"
   },
   "outputs": [
    {
     "name": "stderr",
     "output_type": "stream",
     "text": [
      "[nltk_data] Downloading package punkt to /home/samip/nltk_data...\n",
      "[nltk_data]   Package punkt is already up-to-date!\n"
     ]
    },
    {
     "data": {
      "text/plain": [
       "True"
      ]
     },
     "execution_count": 24,
     "metadata": {},
     "output_type": "execute_result"
    }
   ],
   "source": [
    "nltk.download('punkt')"
   ]
  },
  {
   "cell_type": "code",
   "execution_count": 25,
   "metadata": {
    "executionInfo": {
     "elapsed": 1697,
     "status": "ok",
     "timestamp": 1644050337577,
     "user": {
      "displayName": "Samip Paudel",
      "photoUrl": "https://lh3.googleusercontent.com/a-/AOh14GiS3Tqz3GrZTrpS2C90h_jk85nKlmvQHk12_9Pc=s64",
      "userId": "11434154646894480115"
     },
     "user_tz": -345
    },
    "id": "VhUO5h5INZ6J"
   },
   "outputs": [],
   "source": [
    "df['character_count'] = df['text'].apply(len)\n",
    "df['word_count']=df['text'].apply(lambda x : len(nltk.word_tokenize(x)))\n",
    "df['sentence_count'] =df['text'].apply(lambda x : len(nltk.sent_tokenize(x)))"
   ]
  },
  {
   "cell_type": "code",
   "execution_count": 26,
   "metadata": {
    "colab": {
     "base_uri": "https://localhost:8080/",
     "height": 407
    },
    "executionInfo": {
     "elapsed": 14,
     "status": "ok",
     "timestamp": 1644050337577,
     "user": {
      "displayName": "Samip Paudel",
      "photoUrl": "https://lh3.googleusercontent.com/a-/AOh14GiS3Tqz3GrZTrpS2C90h_jk85nKlmvQHk12_9Pc=s64",
      "userId": "11434154646894480115"
     },
     "user_tz": -345
    },
    "id": "Eg8LhE69Ot0d",
    "outputId": "2e8afa7a-c5c3-4fba-bd3f-9f27b0bea744"
   },
   "outputs": [
    {
     "data": {
      "text/html": [
       "<div>\n",
       "<style scoped>\n",
       "    .dataframe tbody tr th:only-of-type {\n",
       "        vertical-align: middle;\n",
       "    }\n",
       "\n",
       "    .dataframe tbody tr th {\n",
       "        vertical-align: top;\n",
       "    }\n",
       "\n",
       "    .dataframe thead th {\n",
       "        text-align: right;\n",
       "    }\n",
       "</style>\n",
       "<table border=\"1\" class=\"dataframe\">\n",
       "  <thead>\n",
       "    <tr style=\"text-align: right;\">\n",
       "      <th></th>\n",
       "      <th>Label</th>\n",
       "      <th>text</th>\n",
       "      <th>character_count</th>\n",
       "      <th>word_count</th>\n",
       "      <th>sentence_count</th>\n",
       "    </tr>\n",
       "  </thead>\n",
       "  <tbody>\n",
       "    <tr>\n",
       "      <th>0</th>\n",
       "      <td>0</td>\n",
       "      <td>Go until jurong point, crazy.. Available only ...</td>\n",
       "      <td>111</td>\n",
       "      <td>24</td>\n",
       "      <td>2</td>\n",
       "    </tr>\n",
       "    <tr>\n",
       "      <th>1</th>\n",
       "      <td>0</td>\n",
       "      <td>Ok lar... Joking wif u oni...</td>\n",
       "      <td>29</td>\n",
       "      <td>8</td>\n",
       "      <td>2</td>\n",
       "    </tr>\n",
       "    <tr>\n",
       "      <th>2</th>\n",
       "      <td>1</td>\n",
       "      <td>Free entry in 2 a wkly comp to win FA Cup fina...</td>\n",
       "      <td>155</td>\n",
       "      <td>37</td>\n",
       "      <td>2</td>\n",
       "    </tr>\n",
       "    <tr>\n",
       "      <th>3</th>\n",
       "      <td>0</td>\n",
       "      <td>U dun say so early hor... U c already then say...</td>\n",
       "      <td>49</td>\n",
       "      <td>13</td>\n",
       "      <td>1</td>\n",
       "    </tr>\n",
       "    <tr>\n",
       "      <th>4</th>\n",
       "      <td>0</td>\n",
       "      <td>Nah I don't think he goes to usf, he lives aro...</td>\n",
       "      <td>61</td>\n",
       "      <td>15</td>\n",
       "      <td>1</td>\n",
       "    </tr>\n",
       "  </tbody>\n",
       "</table>\n",
       "</div>"
      ],
      "text/plain": [
       "   Label                                               text  character_count  \\\n",
       "0      0  Go until jurong point, crazy.. Available only ...              111   \n",
       "1      0                      Ok lar... Joking wif u oni...               29   \n",
       "2      1  Free entry in 2 a wkly comp to win FA Cup fina...              155   \n",
       "3      0  U dun say so early hor... U c already then say...               49   \n",
       "4      0  Nah I don't think he goes to usf, he lives aro...               61   \n",
       "\n",
       "   word_count  sentence_count  \n",
       "0          24               2  \n",
       "1           8               2  \n",
       "2          37               2  \n",
       "3          13               1  \n",
       "4          15               1  "
      ]
     },
     "execution_count": 26,
     "metadata": {},
     "output_type": "execute_result"
    }
   ],
   "source": [
    "df.head()"
   ]
  },
  {
   "cell_type": "code",
   "execution_count": 27,
   "metadata": {
    "colab": {
     "base_uri": "https://localhost:8080/",
     "height": 300
    },
    "executionInfo": {
     "elapsed": 13,
     "status": "ok",
     "timestamp": 1644050337578,
     "user": {
      "displayName": "Samip Paudel",
      "photoUrl": "https://lh3.googleusercontent.com/a-/AOh14GiS3Tqz3GrZTrpS2C90h_jk85nKlmvQHk12_9Pc=s64",
      "userId": "11434154646894480115"
     },
     "user_tz": -345
    },
    "id": "68ije5ZEPGXw",
    "outputId": "b423604b-3c8a-4bc4-9c45-dabd73273b0a"
   },
   "outputs": [
    {
     "data": {
      "text/html": [
       "<div>\n",
       "<style scoped>\n",
       "    .dataframe tbody tr th:only-of-type {\n",
       "        vertical-align: middle;\n",
       "    }\n",
       "\n",
       "    .dataframe tbody tr th {\n",
       "        vertical-align: top;\n",
       "    }\n",
       "\n",
       "    .dataframe thead th {\n",
       "        text-align: right;\n",
       "    }\n",
       "</style>\n",
       "<table border=\"1\" class=\"dataframe\">\n",
       "  <thead>\n",
       "    <tr style=\"text-align: right;\">\n",
       "      <th></th>\n",
       "      <th>Label</th>\n",
       "      <th>character_count</th>\n",
       "      <th>word_count</th>\n",
       "      <th>sentence_count</th>\n",
       "    </tr>\n",
       "  </thead>\n",
       "  <tbody>\n",
       "    <tr>\n",
       "      <th>count</th>\n",
       "      <td>5169.000000</td>\n",
       "      <td>5169.000000</td>\n",
       "      <td>5169.000000</td>\n",
       "      <td>5169.000000</td>\n",
       "    </tr>\n",
       "    <tr>\n",
       "      <th>mean</th>\n",
       "      <td>0.126330</td>\n",
       "      <td>78.977945</td>\n",
       "      <td>18.453279</td>\n",
       "      <td>1.947185</td>\n",
       "    </tr>\n",
       "    <tr>\n",
       "      <th>std</th>\n",
       "      <td>0.332253</td>\n",
       "      <td>58.236293</td>\n",
       "      <td>13.324793</td>\n",
       "      <td>1.362406</td>\n",
       "    </tr>\n",
       "    <tr>\n",
       "      <th>min</th>\n",
       "      <td>0.000000</td>\n",
       "      <td>2.000000</td>\n",
       "      <td>1.000000</td>\n",
       "      <td>1.000000</td>\n",
       "    </tr>\n",
       "    <tr>\n",
       "      <th>25%</th>\n",
       "      <td>0.000000</td>\n",
       "      <td>36.000000</td>\n",
       "      <td>9.000000</td>\n",
       "      <td>1.000000</td>\n",
       "    </tr>\n",
       "    <tr>\n",
       "      <th>50%</th>\n",
       "      <td>0.000000</td>\n",
       "      <td>60.000000</td>\n",
       "      <td>15.000000</td>\n",
       "      <td>1.000000</td>\n",
       "    </tr>\n",
       "    <tr>\n",
       "      <th>75%</th>\n",
       "      <td>0.000000</td>\n",
       "      <td>117.000000</td>\n",
       "      <td>26.000000</td>\n",
       "      <td>2.000000</td>\n",
       "    </tr>\n",
       "    <tr>\n",
       "      <th>max</th>\n",
       "      <td>1.000000</td>\n",
       "      <td>910.000000</td>\n",
       "      <td>220.000000</td>\n",
       "      <td>28.000000</td>\n",
       "    </tr>\n",
       "  </tbody>\n",
       "</table>\n",
       "</div>"
      ],
      "text/plain": [
       "             Label  character_count   word_count  sentence_count\n",
       "count  5169.000000      5169.000000  5169.000000     5169.000000\n",
       "mean      0.126330        78.977945    18.453279        1.947185\n",
       "std       0.332253        58.236293    13.324793        1.362406\n",
       "min       0.000000         2.000000     1.000000        1.000000\n",
       "25%       0.000000        36.000000     9.000000        1.000000\n",
       "50%       0.000000        60.000000    15.000000        1.000000\n",
       "75%       0.000000       117.000000    26.000000        2.000000\n",
       "max       1.000000       910.000000   220.000000       28.000000"
      ]
     },
     "execution_count": 27,
     "metadata": {},
     "output_type": "execute_result"
    }
   ],
   "source": [
    "df.describe()"
   ]
  },
  {
   "cell_type": "code",
   "execution_count": 28,
   "metadata": {
    "executionInfo": {
     "elapsed": 12,
     "status": "ok",
     "timestamp": 1644050337578,
     "user": {
      "displayName": "Samip Paudel",
      "photoUrl": "https://lh3.googleusercontent.com/a-/AOh14GiS3Tqz3GrZTrpS2C90h_jk85nKlmvQHk12_9Pc=s64",
      "userId": "11434154646894480115"
     },
     "user_tz": -345
    },
    "id": "3AJBS1yHPLeX"
   },
   "outputs": [],
   "source": [
    "import seaborn as sns"
   ]
  },
  {
   "cell_type": "code",
   "execution_count": 29,
   "metadata": {
    "colab": {
     "base_uri": "https://localhost:8080/",
     "height": 280
    },
    "executionInfo": {
     "elapsed": 440,
     "status": "ok",
     "timestamp": 1644050338007,
     "user": {
      "displayName": "Samip Paudel",
      "photoUrl": "https://lh3.googleusercontent.com/a-/AOh14GiS3Tqz3GrZTrpS2C90h_jk85nKlmvQHk12_9Pc=s64",
      "userId": "11434154646894480115"
     },
     "user_tz": -345
    },
    "id": "8Djx_EgePjSa",
    "outputId": "6602bdf9-baae-4849-a5ad-2718b64367ee"
   },
   "outputs": [
    {
     "data": {
      "image/png": "[encoded data removed]",
      "text/plain": [
       "<Figure size 432x288 with 1 Axes>"
      ]
     },
     "metadata": {
      "needs_background": "light"
     },
     "output_type": "display_data"
    }
   ],
   "source": [
    "sns.histplot(df[df['Label']==0]['character_count'],color='black')\n",
    "sns.histplot(df[df['Label']==1]['character_count'],color='yellow')\n",
    "plt.legend(['Ham','Spam'])\n",
    "plt.show()"
   ]
  },
  {
   "cell_type": "code",
   "execution_count": 30,
   "metadata": {
    "colab": {
     "base_uri": "https://localhost:8080/",
     "height": 280
    },
    "executionInfo": {
     "elapsed": 515,
     "status": "ok",
     "timestamp": 1644050338515,
     "user": {
      "displayName": "Samip Paudel",
      "photoUrl": "https://lh3.googleusercontent.com/a-/AOh14GiS3Tqz3GrZTrpS2C90h_jk85nKlmvQHk12_9Pc=s64",
      "userId": "11434154646894480115"
     },
     "user_tz": -345
    },
    "id": "QCDJgk5kP0uH",
    "outputId": "84c05dee-6104-4aa6-f278-ab46e0c4dba2"
   },
   "outputs": [
    {
     "data": {
      "image/png": "[encoded data removed]",
      "text/plain": [
       "<Figure size 432x288 with 1 Axes>"
      ]
     },
     "metadata": {
      "needs_background": "light"
     },
     "output_type": "display_data"
    }
   ],
   "source": [
    "sns.histplot(df[df['Label']==0]['word_count'],color='black')\n",
    "sns.histplot(df[df['Label']==1]['word_count'],color='yellow')\n",
    "plt.legend(['Ham','Spam'])\n",
    "plt.show()"
   ]
  },
  {
   "cell_type": "markdown",
   "metadata": {},
   "source": [
    "#### Observation:\n",
    "Spam values tends to have smaller no. of word,character,sentence count"
   ]
  },
  {
   "cell_type": "code",
   "execution_count": 31,
   "metadata": {
    "colab": {
     "base_uri": "https://localhost:8080/",
     "height": 567
    },
    "executionInfo": {
     "elapsed": 9624,
     "status": "ok",
     "timestamp": 1644050348133,
     "user": {
      "displayName": "Samip Paudel",
      "photoUrl": "https://lh3.googleusercontent.com/a-/AOh14GiS3Tqz3GrZTrpS2C90h_jk85nKlmvQHk12_9Pc=s64",
      "userId": "11434154646894480115"
     },
     "user_tz": -345
    },
    "id": "A9yegpG-QvoL",
    "outputId": "d2f16747-b6b0-4fd5-ee6b-760e9514c79b"
   },
   "outputs": [
    {
     "data": {
      "text/plain": [
       "<seaborn.axisgrid.PairGrid at 0x7fce6bbc8c70>"
      ]
     },
     "execution_count": 31,
     "metadata": {},
     "output_type": "execute_result"
    },
    {
     "data": {
      "image/png": "[encoded data removed]",
      "text/plain": [
       "<Figure size 582.375x540 with 12 Axes>"
      ]
     },
     "metadata": {
      "needs_background": "light"
     },
     "output_type": "display_data"
    }
   ],
   "source": [
    "sns.pairplot(df,hue='Label')"
   ]
  },
  {
   "cell_type": "markdown",
   "metadata": {},
   "source": [
    "### Observation:\n",
    "\n",
    "Data Samples has some outliers.\n",
    "\n",
    "Since we are working with textual data, Naive Bayes is certainly a great algorithm to work with as it produces better results altogether in this context.\n"
   ]
  },
  {
   "cell_type": "code",
   "execution_count": 32,
   "metadata": {
    "colab": {
     "base_uri": "https://localhost:8080/",
     "height": 357
    },
    "executionInfo": {
     "elapsed": 32,
     "status": "ok",
     "timestamp": 1644050348136,
     "user": {
      "displayName": "Samip Paudel",
      "photoUrl": "https://lh3.googleusercontent.com/a-/AOh14GiS3Tqz3GrZTrpS2C90h_jk85nKlmvQHk12_9Pc=s64",
      "userId": "11434154646894480115"
     },
     "user_tz": -345
    },
    "id": "EBD9AcX8RHGe",
    "outputId": "74f40065-3e1c-4b1b-cb55-798baa6c2492"
   },
   "outputs": [
    {
     "data": {
      "text/plain": [
       "<AxesSubplot:>"
      ]
     },
     "execution_count": 32,
     "metadata": {},
     "output_type": "execute_result"
    },
    {
     "data": {
      "image/png": "[encoded data removed]",
      "text/plain": [
       "<Figure size 432x288 with 2 Axes>"
      ]
     },
     "metadata": {
      "needs_background": "light"
     },
     "output_type": "display_data"
    }
   ],
   "source": [
    "sns.heatmap(df.corr(),annot=True)"
   ]
  },
  {
   "cell_type": "markdown",
   "metadata": {},
   "source": [
    "### Observation:\n",
    "\n",
    "From the above correlation heat map we can observe the fact that character count is well correlated with Lables.\n",
    "\n",
    "Character,Word,Sentence counts are themselves correlated heavily with each other. so, it is better to choose only one from them, ideally character_count."
   ]
  },
  {
   "cell_type": "markdown",
   "metadata": {},
   "source": [
    "### Text Preprocessing \n",
    "\n",
    "Tasks: \n",
    "    lower cases,\n",
    "    managing stop words\n",
    "    ,Vectorization\n",
    "    ,stem words\n",
    "    "
   ]
  },
  {
   "cell_type": "code",
   "execution_count": 33,
   "metadata": {
    "colab": {
     "base_uri": "https://localhost:8080/"
    },
    "executionInfo": {
     "elapsed": 463,
     "status": "ok",
     "timestamp": 1644050358589,
     "user": {
      "displayName": "Samip Paudel",
      "photoUrl": "https://lh3.googleusercontent.com/a-/AOh14GiS3Tqz3GrZTrpS2C90h_jk85nKlmvQHk12_9Pc=s64",
      "userId": "11434154646894480115"
     },
     "user_tz": -345
    },
    "id": "tLXb2Kj0SQnK",
    "outputId": "cff8bc63-6c5f-4aec-de17-f52680efd7d6"
   },
   "outputs": [],
   "source": [
    "def transform_text(text):\n",
    "    text = text.lower()\n",
    "    text = nltk.word_tokenize(text)\n",
    "    \n",
    "    y = []\n",
    "    for i in text:\n",
    "        if i.isalnum():\n",
    "            y.append(i)\n",
    "    \n",
    "    text = y[:]\n",
    "    y.clear()\n",
    "    \n",
    "    for i in text:\n",
    "        if i not in stopwords.words('english') and i not in string.punctuation:\n",
    "            y.append(i)\n",
    "            \n",
    "    text = y[:]\n",
    "    y.clear()\n",
    "    \n",
    "    for i in text:\n",
    "        y.append(ps.stem(i))\n",
    "    \n",
    "            \n",
    "    return \" \".join(y)"
   ]
  },
  {
   "cell_type": "code",
   "execution_count": 34,
   "metadata": {
    "executionInfo": {
     "elapsed": 439,
     "status": "ok",
     "timestamp": 1644050361874,
     "user": {
      "displayName": "Samip Paudel",
      "photoUrl": "https://lh3.googleusercontent.com/a-/AOh14GiS3Tqz3GrZTrpS2C90h_jk85nKlmvQHk12_9Pc=s64",
      "userId": "11434154646894480115"
     },
     "user_tz": -345
    },
    "id": "4LfMHwkFRVKz"
   },
   "outputs": [],
   "source": [
    "from nltk.stem.porter import PorterStemmer\n",
    "ps = PorterStemmer()\n",
    "ps.stem('loving')\n",
    "\n",
    "from nltk.corpus import stopwords\n",
    "import string"
   ]
  },
  {
   "cell_type": "code",
   "execution_count": 35,
   "metadata": {
    "colab": {
     "base_uri": "https://localhost:8080/",
     "height": 36
    },
    "executionInfo": {
     "elapsed": 430,
     "status": "ok",
     "timestamp": 1644050365412,
     "user": {
      "displayName": "Samip Paudel",
      "photoUrl": "https://lh3.googleusercontent.com/a-/AOh14GiS3Tqz3GrZTrpS2C90h_jk85nKlmvQHk12_9Pc=s64",
      "userId": "11434154646894480115"
     },
     "user_tz": -345
    },
    "id": "zwu6tqZcSOba",
    "outputId": "e751bb05-8c51-45a5-9017-1ed19785f200"
   },
   "outputs": [],
   "source": [
    "df['transformed_text'] = df['text'].apply(transform_text)"
   ]
  },
  {
   "cell_type": "code",
   "execution_count": 36,
   "metadata": {
    "id": "GjYKh9ZrS4IF"
   },
   "outputs": [
    {
     "data": {
      "text/html": [
       "<div>\n",
       "<style scoped>\n",
       "    .dataframe tbody tr th:only-of-type {\n",
       "        vertical-align: middle;\n",
       "    }\n",
       "\n",
       "    .dataframe tbody tr th {\n",
       "        vertical-align: top;\n",
       "    }\n",
       "\n",
       "    .dataframe thead th {\n",
       "        text-align: right;\n",
       "    }\n",
       "</style>\n",
       "<table border=\"1\" class=\"dataframe\">\n",
       "  <thead>\n",
       "    <tr style=\"text-align: right;\">\n",
       "      <th></th>\n",
       "      <th>Label</th>\n",
       "      <th>text</th>\n",
       "      <th>character_count</th>\n",
       "      <th>word_count</th>\n",
       "      <th>sentence_count</th>\n",
       "      <th>transformed_text</th>\n",
       "    </tr>\n",
       "  </thead>\n",
       "  <tbody>\n",
       "    <tr>\n",
       "      <th>0</th>\n",
       "      <td>0</td>\n",
       "      <td>Go until jurong point, crazy.. Available only ...</td>\n",
       "      <td>111</td>\n",
       "      <td>24</td>\n",
       "      <td>2</td>\n",
       "      <td>go jurong point crazi avail bugi n great world...</td>\n",
       "    </tr>\n",
       "    <tr>\n",
       "      <th>1</th>\n",
       "      <td>0</td>\n",
       "      <td>Ok lar... Joking wif u oni...</td>\n",
       "      <td>29</td>\n",
       "      <td>8</td>\n",
       "      <td>2</td>\n",
       "      <td>ok lar joke wif u oni</td>\n",
       "    </tr>\n",
       "    <tr>\n",
       "      <th>2</th>\n",
       "      <td>1</td>\n",
       "      <td>Free entry in 2 a wkly comp to win FA Cup fina...</td>\n",
       "      <td>155</td>\n",
       "      <td>37</td>\n",
       "      <td>2</td>\n",
       "      <td>free entri 2 wkli comp win fa cup final tkt 21...</td>\n",
       "    </tr>\n",
       "    <tr>\n",
       "      <th>3</th>\n",
       "      <td>0</td>\n",
       "      <td>U dun say so early hor... U c already then say...</td>\n",
       "      <td>49</td>\n",
       "      <td>13</td>\n",
       "      <td>1</td>\n",
       "      <td>u dun say earli hor u c alreadi say</td>\n",
       "    </tr>\n",
       "    <tr>\n",
       "      <th>4</th>\n",
       "      <td>0</td>\n",
       "      <td>Nah I don't think he goes to usf, he lives aro...</td>\n",
       "      <td>61</td>\n",
       "      <td>15</td>\n",
       "      <td>1</td>\n",
       "      <td>nah think goe usf live around though</td>\n",
       "    </tr>\n",
       "  </tbody>\n",
       "</table>\n",
       "</div>"
      ],
      "text/plain": [
       "   Label                                               text  character_count  \\\n",
       "0      0  Go until jurong point, crazy.. Available only ...              111   \n",
       "1      0                      Ok lar... Joking wif u oni...               29   \n",
       "2      1  Free entry in 2 a wkly comp to win FA Cup fina...              155   \n",
       "3      0  U dun say so early hor... U c already then say...               49   \n",
       "4      0  Nah I don't think he goes to usf, he lives aro...               61   \n",
       "\n",
       "   word_count  sentence_count  \\\n",
       "0          24               2   \n",
       "1           8               2   \n",
       "2          37               2   \n",
       "3          13               1   \n",
       "4          15               1   \n",
       "\n",
       "                                    transformed_text  \n",
       "0  go jurong point crazi avail bugi n great world...  \n",
       "1                              ok lar joke wif u oni  \n",
       "2  free entri 2 wkli comp win fa cup final tkt 21...  \n",
       "3                u dun say earli hor u c alreadi say  \n",
       "4               nah think goe usf live around though  "
      ]
     },
     "execution_count": 36,
     "metadata": {},
     "output_type": "execute_result"
    }
   ],
   "source": [
    "\n",
    "\n",
    "df.head()\n",
    "\n"
   ]
  },
  {
   "cell_type": "code",
   "execution_count": 37,
   "metadata": {
    "executionInfo": {
     "elapsed": 951,
     "status": "aborted",
     "timestamp": 1644050349065,
     "user": {
      "displayName": "Samip Paudel",
      "photoUrl": "https://lh3.googleusercontent.com/a-/AOh14GiS3Tqz3GrZTrpS2C90h_jk85nKlmvQHk12_9Pc=s64",
      "userId": "11434154646894480115"
     },
     "user_tz": -345
    },
    "id": "atbX3cXUUsEI"
   },
   "outputs": [],
   "source": [
    "spam_corpus=[]\n",
    "for msg in df[df['Label']==1]['transformed_text'].tolist():\n",
    "    for word in msg.split():\n",
    "        spam_corpus.append(word)\n"
   ]
  },
  {
   "cell_type": "code",
   "execution_count": 38,
   "metadata": {},
   "outputs": [
    {
     "data": {
      "text/plain": [
       "9939"
      ]
     },
     "execution_count": 38,
     "metadata": {},
     "output_type": "execute_result"
    }
   ],
   "source": [
    "len(spam_corpus)"
   ]
  },
  {
   "cell_type": "code",
   "execution_count": 39,
   "metadata": {},
   "outputs": [
    {
     "name": "stderr",
     "output_type": "stream",
     "text": [
      "/home/samip/.local/lib/python3.10/site-packages/seaborn/_decorators.py:36: FutureWarning: Pass the following variables as keyword args: x, y. From version 0.12, the only valid positional argument will be `data`, and passing other arguments without an explicit keyword will result in an error or misinterpretation.\n",
      "  warnings.warn(\n"
     ]
    },
    {
     "data": {
      "image/png": "[encoded data removed]",
      "text/plain": [
       "<Figure size 432x288 with 1 Axes>"
      ]
     },
     "metadata": {
      "needs_background": "light"
     },
     "output_type": "display_data"
    }
   ],
   "source": [
    "from collections import Counter\n",
    "sns.barplot(pd.DataFrame(Counter(spam_corpus).most_common(30))[0],pd.DataFrame(Counter(spam_corpus).most_common(30))[1])\n",
    "plt.xticks(rotation='vertical')\n",
    "plt.show()"
   ]
  },
  {
   "cell_type": "code",
   "execution_count": 40,
   "metadata": {},
   "outputs": [],
   "source": [
    "ham_corpus=[]\n",
    "for msg in df[df['Label']==0]['transformed_text'].tolist():\n",
    "    for word in msg.split():\n",
    "        ham_corpus.append(word)\n"
   ]
  },
  {
   "cell_type": "code",
   "execution_count": 41,
   "metadata": {},
   "outputs": [
    {
     "data": {
      "text/plain": [
       "35394"
      ]
     },
     "execution_count": 41,
     "metadata": {},
     "output_type": "execute_result"
    }
   ],
   "source": [
    "len(ham_corpus)"
   ]
  },
  {
   "cell_type": "code",
   "execution_count": 42,
   "metadata": {},
   "outputs": [
    {
     "name": "stderr",
     "output_type": "stream",
     "text": [
      "/home/samip/.local/lib/python3.10/site-packages/seaborn/_decorators.py:36: FutureWarning: Pass the following variables as keyword args: x, y. From version 0.12, the only valid positional argument will be `data`, and passing other arguments without an explicit keyword will result in an error or misinterpretation.\n",
      "  warnings.warn(\n"
     ]
    },
    {
     "data": {
      "image/png": "[encoded data removed]",
      "text/plain": [
       "<Figure size 432x288 with 1 Axes>"
      ]
     },
     "metadata": {
      "needs_background": "light"
     },
     "output_type": "display_data"
    }
   ],
   "source": [
    "from collections import Counter\n",
    "sns.barplot(pd.DataFrame(Counter(ham_corpus).most_common(30))[0],pd.DataFrame(Counter(ham_corpus).most_common(30))[1])\n",
    "plt.xticks(rotation='vertical')\n",
    "plt.show()"
   ]
  },
  {
   "cell_type": "markdown",
   "metadata": {},
   "source": [
    "#### Model Building"
   ]
  },
  {
   "cell_type": "code",
   "execution_count": 43,
   "metadata": {},
   "outputs": [],
   "source": [
    "\n",
    "\n",
    "from sklearn.feature_extraction.text import CountVectorizer,TfidfVectorizer\n",
    "cv = CountVectorizer()\n",
    "tfidf = TfidfVectorizer(max_features=3000)\n",
    "\n"
   ]
  },
  {
   "cell_type": "markdown",
   "metadata": {},
   "source": [
    "### Tfidf Vectorizer worked best in the experiment"
   ]
  },
  {
   "cell_type": "code",
   "execution_count": 44,
   "metadata": {},
   "outputs": [],
   "source": [
    "X = tfidf.fit_transform(df['transformed_text']).toarray()"
   ]
  },
  {
   "cell_type": "code",
   "execution_count": 45,
   "metadata": {},
   "outputs": [
    {
     "data": {
      "text/plain": [
       "(5169, 3000)"
      ]
     },
     "execution_count": 45,
     "metadata": {},
     "output_type": "execute_result"
    }
   ],
   "source": [
    "X.shape"
   ]
  },
  {
   "cell_type": "code",
   "execution_count": 46,
   "metadata": {},
   "outputs": [],
   "source": [
    "y = df['Label'].values"
   ]
  },
  {
   "cell_type": "code",
   "execution_count": 47,
   "metadata": {},
   "outputs": [
    {
     "data": {
      "text/plain": [
       "array([0, 0, 1, ..., 0, 0, 0])"
      ]
     },
     "execution_count": 47,
     "metadata": {},
     "output_type": "execute_result"
    }
   ],
   "source": [
    "y"
   ]
  },
  {
   "cell_type": "markdown",
   "metadata": {},
   "source": [
    "#### Splitting the data "
   ]
  },
  {
   "cell_type": "code",
   "execution_count": 48,
   "metadata": {},
   "outputs": [],
   "source": [
    "from sklearn.model_selection import train_test_split\n",
    "X_train,X_test,y_train,y_test = train_test_split(X,y,test_size=0.2)\n",
    "\n",
    "from sklearn.model_selection import cross_val_score\n",
    "\n",
    "from sklearn.metrics import classification_report, confusion_matrix"
   ]
  },
  {
   "cell_type": "code",
   "execution_count": 49,
   "metadata": {},
   "outputs": [],
   "source": [
    "from sklearn.naive_bayes import GaussianNB,MultinomialNB,BernoulliNB\n",
    "from sklearn.metrics import accuracy_score,confusion_matrix,precision_score\n"
   ]
  },
  {
   "cell_type": "code",
   "execution_count": 66,
   "metadata": {},
   "outputs": [],
   "source": [
    "gnb = GaussianNB()\n",
    "mnb = MultinomialNB()\n",
    "bnb = BernoulliNB()\n",
    "gnb_cv_score = cross_val_score(gnb, X, y, cv=10, scoring=\"roc_auc\")\n",
    "mnb_cv_score = cross_val_score(mnb, X, y, cv=10, scoring=\"roc_auc\")\n",
    "bnb_cv_score = cross_val_score(bnb, X, y, cv=10, scoring=\"roc_auc\")"
   ]
  },
  {
   "cell_type": "code",
   "execution_count": 67,
   "metadata": {},
   "outputs": [],
   "source": [
    "gnb.fit(X_train,y_train)\n",
    "y_pred1 = gnb.predict(X_test)\n"
   ]
  },
  {
   "cell_type": "code",
   "execution_count": 68,
   "metadata": {},
   "outputs": [
    {
     "name": "stdout",
     "output_type": "stream",
     "text": [
      "------Confusion Matrix------\n",
      "[[801 112]\n",
      " [ 21 100]]\n",
      "\n",
      "\n",
      "------Classification Report------\n",
      "              precision    recall  f1-score   support\n",
      "\n",
      "           0       0.97      0.88      0.92       913\n",
      "           1       0.47      0.83      0.60       121\n",
      "\n",
      "    accuracy                           0.87      1034\n",
      "   macro avg       0.72      0.85      0.76      1034\n",
      "weighted avg       0.92      0.87      0.89      1034\n",
      "\n",
      "\n",
      "\n",
      "------All AUC Scores------\n",
      "[0.873145   0.86545269 0.8094452  0.84901293 0.86223622 0.83915929\n",
      " 0.8597561  0.8902439  0.84922395 0.85974757]\n",
      "\n",
      "\n",
      "------ Mean AUC Score------\n",
      "Mean AUC Score - GNB:  0.8557422843722218\n"
     ]
    }
   ],
   "source": [
    "print(\"------Confusion Matrix------\")\n",
    "print(confusion_matrix(y_test, y_pred1))\n",
    "print('\\n')\n",
    "print(\"------Classification Report------\")\n",
    "print(classification_report(y_test, y_pred1))\n",
    "print('\\n')\n",
    "print(\"------All AUC Scores------\")\n",
    "print(gnb_cv_score)\n",
    "print('\\n')\n",
    "print(\"------ Mean AUC Score------\")\n",
    "print(\"Mean AUC Score - GNB: \", gnb_cv_score.mean())"
   ]
  },
  {
   "cell_type": "code",
   "execution_count": 70,
   "metadata": {},
   "outputs": [],
   "source": [
    "mnb.fit(X_train,y_train)\n",
    "y_pred2 = mnb.predict(X_test)\n"
   ]
  },
  {
   "cell_type": "code",
   "execution_count": 71,
   "metadata": {},
   "outputs": [
    {
     "name": "stdout",
     "output_type": "stream",
     "text": [
      "------Confusion Matrix------\n",
      "[[912   1]\n",
      " [ 30  91]]\n",
      "\n",
      "\n",
      "------Classification Report------\n",
      "              precision    recall  f1-score   support\n",
      "\n",
      "           0       0.97      1.00      0.98       913\n",
      "           1       0.99      0.75      0.85       121\n",
      "\n",
      "    accuracy                           0.97      1034\n",
      "   macro avg       0.98      0.88      0.92      1034\n",
      "weighted avg       0.97      0.97      0.97      1034\n",
      "\n",
      "\n",
      "\n",
      "------All AUC Scores------\n",
      "[0.98801906 0.99002723 0.98087134 0.99223962 0.98757658 0.96698434\n",
      " 0.96203722 0.98703218 0.98074985 0.99310933]\n",
      "\n",
      "\n",
      "------ Mean AUC Score------\n",
      "Mean AUC Score - MNB:  0.9828646762194628\n"
     ]
    }
   ],
   "source": [
    "print(\"------Confusion Matrix------\")\n",
    "print(confusion_matrix(y_test, y_pred2))\n",
    "print('\\n')\n",
    "print(\"------Classification Report------\")\n",
    "print(classification_report(y_test, y_pred2))\n",
    "print('\\n')\n",
    "print(\"------All AUC Scores------\")\n",
    "print(mnb_cv_score)\n",
    "print('\\n')\n",
    "print(\"------ Mean AUC Score------\")\n",
    "print(\"Mean AUC Score - MNB: \", mnb_cv_score.mean())"
   ]
  },
  {
   "cell_type": "code",
   "execution_count": 72,
   "metadata": {},
   "outputs": [],
   "source": [
    "bnb.fit(X_train,y_train)\n",
    "y_pred3 = bnb.predict(X_test)\n"
   ]
  },
  {
   "cell_type": "code",
   "execution_count": 73,
   "metadata": {},
   "outputs": [
    {
     "name": "stdout",
     "output_type": "stream",
     "text": [
      "------Confusion Matrix------\n",
      "[[910   3]\n",
      " [ 16 105]]\n",
      "\n",
      "\n",
      "------Classification Report------\n",
      "              precision    recall  f1-score   support\n",
      "\n",
      "           0       0.98      1.00      0.99       913\n",
      "           1       0.97      0.87      0.92       121\n",
      "\n",
      "    accuracy                           0.98      1034\n",
      "   macro avg       0.98      0.93      0.95      1034\n",
      "weighted avg       0.98      0.98      0.98      1034\n",
      "\n",
      "\n",
      "\n",
      "------All AUC Scores------\n",
      "[0.9890742  0.99108237 0.99380531 0.99908101 0.99642614 0.97450647\n",
      " 0.96966337 0.99183632 0.99254183 0.99655466]\n",
      "\n",
      "\n",
      "------ Mean AUC Score------\n",
      "Mean AUC Score - BNB:  0.9894571682266677\n"
     ]
    }
   ],
   "source": [
    "print(\"------Confusion Matrix------\")\n",
    "print(confusion_matrix(y_test, y_pred3))\n",
    "print('\\n')\n",
    "print(\"------Classification Report------\")\n",
    "print(classification_report(y_test, y_pred3))\n",
    "print('\\n')\n",
    "print(\"------All AUC Scores------\")\n",
    "print(bnb_cv_score)\n",
    "print('\\n')\n",
    "print(\"------ Mean AUC Score------\")\n",
    "print(\"Mean AUC Score - BNB: \", bnb_cv_score.mean())"
   ]
  },
  {
   "cell_type": "markdown",
   "metadata": {},
   "source": [
    "### Observation:\n",
    "\n",
    "MNB has great Precision and Accuarcy "
   ]
  },
  {
   "cell_type": "code",
   "execution_count": null,
   "metadata": {},
   "outputs": [],
   "source": []
  }
 ],
 "metadata": {
  "colab": {
   "authorship_tag": "ABX9TyPrs8EInzHfPt4bGyjD5PNL",
   "collapsed_sections": [],
   "name": "message-spam-detection.ipynb",
   "provenance": []
  },
  "kernelspec": {
   "display_name": "Python 3 (ipykernel)",
   "language": "python",
   "name": "python3"
  },
  "language_info": {
   "codemirror_mode": {
    "name": "ipython",
    "version": 3
   },
   "file_extension": ".py",
   "mimetype": "text/x-python",
   "name": "python",
   "nbconvert_exporter": "python",
   "pygments_lexer": "ipython3",
   "version": "3.10.1"
  }
 },
 "nbformat": 4,
 "nbformat_minor": 1
}
